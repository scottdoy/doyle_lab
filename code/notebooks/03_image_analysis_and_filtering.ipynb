{
 "cells": [
  {
   "cell_type": "markdown",
   "metadata": {
    "colab_type": "text",
    "id": "bdd2CaE_YHuE"
   },
   "source": [
    "# Introduction"
   ]
  },
  {
   "cell_type": "markdown",
   "metadata": {
    "colab_type": "text",
    "id": "4MoWkU8jYJYO"
   },
   "source": [
    "# Imports"
   ]
  },
  {
   "cell_type": "code",
   "execution_count": null,
   "metadata": {
    "colab": {},
    "colab_type": "code",
    "id": "KA_7bKOJYKI_"
   },
   "outputs": [],
   "source": [
    "import os\n",
    "import matplotlib.pyplot as plt\n",
    "\n",
    "from skimage.exposure import rescale_intensity\n",
    "import numpy as np\n",
    "import cv2\n",
    "from skimage import filters"
   ]
  },
  {
   "cell_type": "markdown",
   "metadata": {
    "colab_type": "text",
    "id": "OgnlXQltYKnB"
   },
   "source": [
    "# Data Access and Loading"
   ]
  },
  {
   "cell_type": "code",
   "execution_count": null,
   "metadata": {
    "colab": {
     "base_uri": "https://localhost:8080/",
     "height": 122
    },
    "colab_type": "code",
    "id": "ZO-NbGukYL5p",
    "outputId": "51c4745a-4157-45f8-d1b4-54c7171a2295"
   },
   "outputs": [],
   "source": [
    "# Need to get Google Drive access\n",
    "from google.colab import drive\n",
    "drive.mount('/content/gdrive')"
   ]
  },
  {
   "cell_type": "code",
   "execution_count": null,
   "metadata": {
    "colab": {},
    "colab_type": "code",
    "id": "ObdG5Bk3Gusw"
   },
   "outputs": [],
   "source": [
    "img_dir = os.path.join('/content/gdrive/My Drive/2020-tata-memorial-workshop')"
   ]
  },
  {
   "cell_type": "markdown",
   "metadata": {
    "colab_type": "text",
    "id": "V-UKdIrOYMWK"
   },
   "source": [
    "# Image Display and Visualization"
   ]
  },
  {
   "cell_type": "code",
   "execution_count": null,
   "metadata": {
    "colab": {},
    "colab_type": "code",
    "id": "qQiTqIn_2Z2O"
   },
   "outputs": [],
   "source": [
    "image = plt.imread(os.path.join(img_dir, '8865_500_f00003_original.tif'))"
   ]
  },
  {
   "cell_type": "code",
   "execution_count": null,
   "metadata": {
    "colab": {
     "base_uri": "https://localhost:8080/",
     "height": 917
    },
    "colab_type": "code",
    "id": "oaGSBrfdYNip",
    "outputId": "1464eb20-e35f-4c11-8be4-969b36d78406"
   },
   "outputs": [],
   "source": [
    "fig, axes = plt.subplots(2, 1, figsize=(8,16))\n",
    "\n",
    "axes[0].imshow(image)\n",
    "axes[0].set_title('Original Image')\n",
    "\n",
    "axes[1].imshow(image[:250, :250, :])\n",
    "axes[1].set_title('Original Image (Crop)')\n",
    "\n",
    "for ax in axes:\n",
    "  ax.axis('off')\n",
    "plt.show()"
   ]
  },
  {
   "cell_type": "markdown",
   "metadata": {
    "colab_type": "text",
    "id": "KXi0A7IAYN7b"
   },
   "source": [
    "# Basic Image Analysis: Nuclei Detection"
   ]
  },
  {
   "cell_type": "markdown",
   "metadata": {
    "colab_type": "text",
    "id": "8ZijV1jNGEpQ"
   },
   "source": [
    "## Color Deconvolution for Pathology Stain Separation\n",
    "\n",
    "See the [scikit-image gallery example](https://scikit-image.org/docs/stable/auto_examples/color_exposure/plot_ihc_color_separation.html#sphx-glr-auto-examples-color-exposure-plot-ihc-color-separation-py) as well as [documentation for stain separation](https://scikit-image.org/docs/stable/api/skimage.color.html#skimage.color.separate_stains) for a list of the different convolutional matrices you can import."
   ]
  },
  {
   "cell_type": "code",
   "execution_count": null,
   "metadata": {
    "colab": {},
    "colab_type": "code",
    "id": "Bnk0_4aOGCwa"
   },
   "outputs": [],
   "source": [
    "from skimage.color import separate_stains, hed_from_rgb\n",
    "\n",
    "img_separated = separate_stains(image, hed_from_rgb)\n",
    "img_hema = img_separated[:,:,0]\n",
    "img_eosin = img_separated[:,:,1]\n",
    "img_dab = img_separated[:,:,2]"
   ]
  },
  {
   "cell_type": "code",
   "execution_count": null,
   "metadata": {
    "colab": {
     "base_uri": "https://localhost:8080/",
     "height": 752
    },
    "colab_type": "code",
    "id": "dHERK-pK1CrA",
    "outputId": "0d991068-10a6-4fdb-c58c-45ee84a8442b"
   },
   "outputs": [],
   "source": [
    "# Display\n",
    "fig, ax = plt.subplots(2, 4, figsize=(20,10))\n",
    "\n",
    "# Original\n",
    "ax[0][0].imshow(image)\n",
    "ax[0][0].set_title('Original')\n",
    "ax[0][1].imshow(img_hema, cmap=plt.cm.gray)\n",
    "ax[0][1].set_title('Hematoxylin')\n",
    "ax[0][2].imshow(img_eosin, cmap=plt.cm.gray)\n",
    "ax[0][2].set_title('Eosin')\n",
    "ax[0][3].imshow(img_dab, cmap=plt.cm.gray)\n",
    "ax[0][3].set_title('DAB')\n",
    "\n",
    "# Crop\n",
    "ax[1][0].imshow(image[:250, :250, :])\n",
    "ax[1][0].set_title('Original')\n",
    "ax[1][1].imshow(img_hema[:250, :250], cmap=plt.cm.gray)\n",
    "ax[1][1].set_title('Hematoxylin')\n",
    "ax[1][2].imshow(img_eosin[:250, :250], cmap=plt.cm.gray)\n",
    "ax[1][2].set_title('Eosin')\n",
    "ax[1][3].imshow(img_dab[:250, :250], cmap=plt.cm.gray)\n",
    "ax[1][3].set_title('DAB')\n",
    "\n",
    "for a in ax:\n",
    "  for b in a:\n",
    "    b.axis('off')\n",
    "    \n",
    "fig.tight_layout()"
   ]
  },
  {
   "cell_type": "markdown",
   "metadata": {
    "colab_type": "text",
    "id": "VkLBwwq2Hh1j"
   },
   "source": [
    "## Gaussian Blurring"
   ]
  },
  {
   "cell_type": "markdown",
   "metadata": {
    "colab_type": "text",
    "id": "oW-Wbty-5FU_"
   },
   "source": [
    "Gaussian blurring simply blurs the image by \"blending\" or averaging nearby pixel values. This is used as a smoothing operation to get rid of local specks in the image. You can control the \"amount\" of blending by setting the standard deviation value of the Gaussian used to filter the image."
   ]
  },
  {
   "cell_type": "code",
   "execution_count": null,
   "metadata": {
    "colab": {},
    "colab_type": "code",
    "id": "fNydP6BsHg4I"
   },
   "outputs": [],
   "source": [
    "from skimage import img_as_float\n",
    "from scipy.ndimage import gaussian_filter\n",
    "from skimage.morphology import reconstruction\n",
    "\n",
    "# Convert image to a float for subtraction from the original\n",
    "img_nuc = img_as_float(img_hema)\n",
    "\n",
    "# Run a simple gaussian filter to blur the image\n",
    "img_nuc = gaussian_filter(img_nuc, 1)"
   ]
  },
  {
   "cell_type": "code",
   "execution_count": null,
   "metadata": {
    "colab": {
     "base_uri": "https://localhost:8080/",
     "height": 729
    },
    "colab_type": "code",
    "id": "AHkB8OGV1KUd",
    "outputId": "a5ec86cb-4bc1-42c9-d444-df7f0a431c1d"
   },
   "outputs": [],
   "source": [
    "# Display\n",
    "fig, ax = plt.subplots(2, 2, figsize=(15,10))\n",
    "\n",
    "ax[0][0].imshow(img_hema, cmap=plt.cm.gray)\n",
    "ax[0][0].set_title('Hematoxylin Channel')\n",
    "ax[0][1].imshow(img_nuc, cmap=plt.cm.gray)\n",
    "ax[0][1].set_title('Gaussian Filtered Image')\n",
    "\n",
    "ax[1][0].imshow(img_hema[:250, :250], cmap=plt.cm.gray)\n",
    "ax[1][0].set_title('Hematoxylin Channel')\n",
    "ax[1][1].imshow(img_nuc[:250, :250], cmap=plt.cm.gray)\n",
    "ax[1][1].set_title('Gaussian Filtered Image')\n",
    "\n",
    "for a in ax:\n",
    "  for b in a:\n",
    "    b.axis('off')\n",
    "    \n",
    "fig.tight_layout()"
   ]
  },
  {
   "cell_type": "markdown",
   "metadata": {
    "colab_type": "text",
    "id": "4rQIxru-4wT7"
   },
   "source": [
    "## Image Reconstruction through Dilation"
   ]
  },
  {
   "cell_type": "markdown",
   "metadata": {
    "colab_type": "text",
    "id": "lMInPhw443WK"
   },
   "source": [
    "In this process, we create a map of low-intensity regions of the image (those below a threshold) and subtrac them from the image, so that the only image areas that remain are bright spots."
   ]
  },
  {
   "cell_type": "code",
   "execution_count": null,
   "metadata": {
    "colab": {},
    "colab_type": "code",
    "id": "Wf987zW31ISQ"
   },
   "outputs": [],
   "source": [
    "# Create a reconstruction of the image where low-intensity \n",
    "# regions in a neighborhood are suppressed\n",
    "\n",
    "# First create a \"seed\": a matrix with the minimum value of the image\n",
    "seed = img_nuc - 0.125\n",
    "\n",
    "# Next create a \"mask\": Just the image itself\n",
    "mask = img_nuc\n",
    "\n",
    "# Create a \"dilated\" image: reconstruction through dilation\n",
    "dilated = reconstruction(seed, mask, method='dilation')\n",
    "\n",
    "img_nuc_filtered = img_nuc - dilated"
   ]
  },
  {
   "cell_type": "code",
   "execution_count": null,
   "metadata": {
    "colab": {
     "base_uri": "https://localhost:8080/",
     "height": 749
    },
    "colab_type": "code",
    "id": "JP90648iI7o_",
    "outputId": "8d1e1d32-c112-481c-c3ac-84629b57c578"
   },
   "outputs": [],
   "source": [
    "fig, ax = plt.subplots(2,3,figsize=(20, 10))\n",
    "\n",
    "ax[0][0].imshow(img_nuc, cmap='gray')\n",
    "ax[0][0].set_title('original image')\n",
    "ax[0][1].imshow(dilated, vmin=img_nuc.min(), vmax=img_nuc.max(), cmap='gray')\n",
    "ax[0][1].set_title('dilated')\n",
    "ax[0][2].imshow(img_nuc_filtered, cmap='gray')\n",
    "ax[0][2].set_title('image - dilated')\n",
    "\n",
    "ax[1][0].imshow(img_nuc[:250, :250], cmap='gray')\n",
    "ax[1][0].set_title('original image')\n",
    "ax[1][1].imshow(dilated[:250, :250], vmin=img_nuc.min(), vmax=img_nuc.max(), cmap='gray')\n",
    "ax[1][1].set_title('dilated')\n",
    "ax[1][2].imshow(img_nuc_filtered[:250, :250], cmap='gray')\n",
    "ax[1][2].set_title('image - dilated')\n",
    "\n",
    "for a in ax:\n",
    "  for b in a:\n",
    "    b.axis('off')\n",
    "\n",
    "plt.tight_layout()"
   ]
  },
  {
   "cell_type": "markdown",
   "metadata": {
    "colab_type": "text",
    "id": "IJMdKev55fbA"
   },
   "source": [
    "## Image Thresholding"
   ]
  },
  {
   "cell_type": "markdown",
   "metadata": {
    "colab_type": "text",
    "id": "jGEZy1qi5hgE"
   },
   "source": [
    "Our reconstructed image is now suitable for thresholding -- but what value should we use to threshold?\n",
    "\n",
    "We can take a look at the image histogram to give us an idea of how graylevel values are distributed across the image."
   ]
  },
  {
   "cell_type": "code",
   "execution_count": null,
   "metadata": {
    "colab": {
     "base_uri": "https://localhost:8080/",
     "height": 441
    },
    "colab_type": "code",
    "id": "nGFqY4dS5rYA",
    "outputId": "4cb1934f-f583-461f-dc67-cc9c1bc61863"
   },
   "outputs": [],
   "source": [
    "# Plot a histogram of an image\n",
    "f, ax = plt.subplots(2,1,figsize=(10,6))\n",
    "\n",
    "ax[0].hist(np.ravel(img_nuc_filtered), bins=256, density=True)\n",
    "ax[0].set(xlabel=\"Image Intensity\",\n",
    "       ylabel=\"Density\",\n",
    "       title=\"Image Histogram\")\n",
    "\n",
    "ax[1].hist(np.ravel(img_nuc_filtered), bins=256, density=True)\n",
    "ax[1].set(xlabel=\"Image Intensity\",\n",
    "       ylabel=\"Density\",\n",
    "       title=\"Image Histogram\",\n",
    "       ylim=[0, 40])\n",
    "\n",
    "for a in ax:\n",
    "  a.grid(linestyle=':')\n",
    "plt.tight_layout()\n",
    "plt.show()"
   ]
  },
  {
   "cell_type": "markdown",
   "metadata": {
    "colab_type": "text",
    "id": "oc1GiShG7B_k"
   },
   "source": [
    "Imagine drawing a vertical line somewhere on the X-axis, where everything below that line (the darker areas) becomes black, and everything above the line (the lighter areas) becomes white. What number should we choose to get the optimal segmentation?\n",
    "\n",
    "Thankfully, there is a simple algorithm for greylevel images called [Otsu's Threshold](https://en.wikipedia.org/wiki/Otsu's_method), a very nice explanation of which can be found [here](http://www.labbookpages.co.uk/software/imgProc/otsuThreshold.html)."
   ]
  },
  {
   "cell_type": "code",
   "execution_count": null,
   "metadata": {
    "colab": {
     "base_uri": "https://localhost:8080/",
     "height": 34
    },
    "colab_type": "code",
    "id": "KPrDvPf9JEJY",
    "outputId": "a7b49e39-c204-4721-a97c-8327ff10400d"
   },
   "outputs": [],
   "source": [
    "img_otsu = img_nuc_filtered > filters.threshold_otsu(img_nuc_filtered)\n",
    "\n",
    "print('Calculated Otsu Threshold: {:.4f}'.format(filters.threshold_otsu(img_nuc_filtered)))"
   ]
  },
  {
   "cell_type": "code",
   "execution_count": null,
   "metadata": {
    "colab": {
     "base_uri": "https://localhost:8080/",
     "height": 873
    },
    "colab_type": "code",
    "id": "h_khkDvs8VZ8",
    "outputId": "d0fe3bd8-a7d3-4035-e6fd-0b512bb03abc"
   },
   "outputs": [],
   "source": [
    "# Display\n",
    "fig, ax = plt.subplots(2, 2, figsize=(12, 12))\n",
    "\n",
    "ax[0][0].imshow(img_nuc_filtered, cmap='gray')\n",
    "ax[0][0].set_title('filtered image')\n",
    "ax[0][1].imshow(img_otsu, cmap='gray')\n",
    "ax[0][1].set_title('otsu thresholded image')\n",
    "\n",
    "ax[1][0].imshow(img_nuc_filtered[:250, :250], cmap='gray')\n",
    "ax[1][0].set_title('filtered image')\n",
    "ax[1][1].imshow(img_otsu[:250, :250], cmap='gray')\n",
    "ax[1][1].set_title('otsu thresholded image')\n",
    "\n",
    "for a in ax:\n",
    "  for b in a:\n",
    "    b.axis('off')\n",
    "\n",
    "fig.tight_layout()"
   ]
  },
  {
   "cell_type": "markdown",
   "metadata": {
    "colab_type": "text",
    "id": "eT8XqTeT9WLg"
   },
   "source": [
    "## Image Cleanup: Removing Small Specks and Holes"
   ]
  },
  {
   "cell_type": "markdown",
   "metadata": {
    "colab_type": "text",
    "id": "ieiYfFy89gAR"
   },
   "source": [
    "Otsu rarely gives us a \"clean\" image, so we need to perform some operations to fix what we've got. Two quick ones are removing small objects (aka \"Area Threshold\") and filling in small holes. "
   ]
  },
  {
   "cell_type": "code",
   "execution_count": null,
   "metadata": {
    "colab": {},
    "colab_type": "code",
    "id": "OLoRxOkjJKAN"
   },
   "outputs": [],
   "source": [
    "from skimage.morphology import remove_small_objects, remove_small_holes\n",
    "\n",
    "img_open = remove_small_objects(img_otsu, min_size=64)\n",
    "img_close = remove_small_holes(img_open, area_threshold=64)\n",
    "\n",
    "# Replace img_nuc_bin with the final step of processing for the next section\n",
    "img_nuc_bin = img_close"
   ]
  },
  {
   "cell_type": "code",
   "execution_count": null,
   "metadata": {
    "colab": {
     "base_uri": "https://localhost:8080/",
     "height": 873
    },
    "colab_type": "code",
    "id": "1sBjkMP79d5t",
    "outputId": "5ae92460-4ebe-4f9a-81bd-051427afb64a"
   },
   "outputs": [],
   "source": [
    "# Display\n",
    "fig, ax = plt.subplots(2, 2, figsize=(12, 12))\n",
    "\n",
    "ax[0][0].imshow(img_otsu, cmap='gray')\n",
    "ax[0][0].set_title('Before Cleaning')\n",
    "ax[0][1].imshow(img_close, cmap='gray')\n",
    "ax[0][1].set_title('After Cleaning')\n",
    "\n",
    "ax[1][0].imshow(img_otsu[:250, :250], cmap='gray')\n",
    "ax[1][0].set_title('Before Cleaning')\n",
    "ax[1][1].imshow(img_close[:250, :250], cmap='gray')\n",
    "ax[1][1].set_title('After Cleaning')\n",
    "\n",
    "for a in ax:\n",
    "  for b in a:\n",
    "    b.axis('off')\n",
    "\n",
    "fig.tight_layout()"
   ]
  },
  {
   "cell_type": "markdown",
   "metadata": {
    "colab_type": "text",
    "id": "6QXwQJu1-NWI"
   },
   "source": [
    "## Watershed Transform"
   ]
  },
  {
   "cell_type": "markdown",
   "metadata": {
    "colab_type": "text",
    "id": "4v2iyFE4-Pt5"
   },
   "source": [
    "Now that we have our cleaned image, we **almost** have our nuclei. However, there's a small problem: Nuclei that are touching are currently treated as one object. Is it possible to split apart nuclei?\n",
    "\n",
    "This is a difficult problem, but one easy approach is the [watershed transform](https://scikit-image.org/docs/dev/auto_examples/segmentation/plot_watershed.html), which is also nicely described in the Mathworks MATLAB documentation [here](https://www.mathworks.com/help/images/ref/watershed.html). This approach is useful when you have round objects in binary images and you want to separate them out where they touch. "
   ]
  },
  {
   "cell_type": "code",
   "execution_count": null,
   "metadata": {
    "colab": {},
    "colab_type": "code",
    "id": "Ph2_2rmXJQqn"
   },
   "outputs": [],
   "source": [
    "# Additional imports\n",
    "from scipy.ndimage import distance_transform_edt\n",
    "from scipy.ndimage import generate_binary_structure, grey_dilation\n",
    "from skimage.morphology import watershed, label\n",
    "from skimage.feature import peak_local_max\n",
    "from skimage.color import label2rgb\n",
    "from skimage.segmentation import clear_border"
   ]
  },
  {
   "cell_type": "code",
   "execution_count": null,
   "metadata": {
    "colab": {},
    "colab_type": "code",
    "id": "HnS9V-T3JVjr"
   },
   "outputs": [],
   "source": [
    "# Get the euclidean distance transform -- distance from each object-pixel to the background\n",
    "img_distance = -distance_transform_edt(img_nuc_bin)\n",
    "\n",
    "# Set the background to a very negative number\n",
    "img_distance[~img_nuc_bin] = -100"
   ]
  },
  {
   "cell_type": "code",
   "execution_count": null,
   "metadata": {
    "colab": {
     "base_uri": "https://localhost:8080/",
     "height": 729
    },
    "colab_type": "code",
    "id": "M7-uz69Y_LDf",
    "outputId": "87052cea-3f6a-4f03-be53-8ec77a08a1ed"
   },
   "outputs": [],
   "source": [
    "# Plot the distance map\n",
    "fig, ax = plt.subplots(2,1,figsize=(20,10))\n",
    "\n",
    "ax[0].imshow(img_distance, cmap=plt.cm.gray)\n",
    "ax[1].imshow(img_distance[:250, :250], cmap=plt.cm.gray)\n",
    "\n",
    "for a in ax:\n",
    "  a.axis('off')\n",
    "fig.tight_layout()"
   ]
  },
  {
   "cell_type": "markdown",
   "metadata": {
    "colab_type": "text",
    "id": "JR4dQN8bAAUX"
   },
   "source": [
    "This complex bit of code simply prepares the distance image by suppressing local minima, which often leads to over-segmentation in watershed. Details [here](https://github.com/janelia-flyem/gala/blob/master/gala/morpho.py)."
   ]
  },
  {
   "cell_type": "code",
   "execution_count": null,
   "metadata": {
    "colab": {},
    "colab_type": "code",
    "id": "0mOXLRmSJa-0"
   },
   "outputs": [],
   "source": [
    "# Suppress local minima in the image to prevent over-segmentation\n",
    "# See: https://github.com/janelia-flyem/gala/blob/master/gala/morpho.py\n",
    "\n",
    "# The height threshold is determined empirically, based on distances of the objects in the image\n",
    "hthreshold = 1\n",
    "\n",
    "# Invert the distance image by subtracting it from the maximum value in the image \n",
    "maxval = img_distance.max()\n",
    "img_inv = maxval - img_distance.astype(float)\n",
    "\n",
    "# The marker \n",
    "marker = img_inv - hthreshold\n",
    "\n",
    "mask = img_inv\n",
    "\n",
    "sel = generate_binary_structure(marker.ndim, 1)\n",
    "diff = True\n",
    "while diff:\n",
    "    markernew = grey_dilation(marker, footprint=sel)\n",
    "    markernew = np.minimum(markernew, mask)\n",
    "    diff = (markernew - marker).max() > 0\n",
    "    marker = markernew\n",
    "\n",
    "filled = maxval - marker"
   ]
  },
  {
   "cell_type": "code",
   "execution_count": null,
   "metadata": {
    "colab": {
     "base_uri": "https://localhost:8080/",
     "height": 729
    },
    "colab_type": "code",
    "id": "Bvyqjbn2JdDH",
    "outputId": "37ae9116-e289-4181-baa1-03f6e3facb6d"
   },
   "outputs": [],
   "source": [
    "fig, ax = plt.subplots(2,1,figsize=(20,10))\n",
    "\n",
    "ax[0].imshow(filled, cmap=plt.cm.gray)\n",
    "ax[1].imshow(filled[:250, :250], cmap=plt.cm.gray)\n",
    "\n",
    "for a in ax:\n",
    "  a.axis('off')\n",
    "fig.tight_layout()"
   ]
  },
  {
   "cell_type": "code",
   "execution_count": null,
   "metadata": {
    "colab": {},
    "colab_type": "code",
    "id": "mJwN6-npJf57"
   },
   "outputs": [],
   "source": [
    "# Perform watershed\n",
    "labels_ws = watershed(filled, mask=img_nuc_bin, watershed_line=True)"
   ]
  },
  {
   "cell_type": "code",
   "execution_count": null,
   "metadata": {
    "colab": {
     "base_uri": "https://localhost:8080/",
     "height": 749
    },
    "colab_type": "code",
    "id": "hizRoLCZAa-G",
    "outputId": "2fed2834-f6e9-4312-9c76-275bde5af1b5"
   },
   "outputs": [],
   "source": [
    "fig, ax = plt.subplots(2,3,figsize=(20,10))\n",
    "\n",
    "ax[0][0].imshow(image)\n",
    "ax[0][0].set_title('Original Image')\n",
    "ax[0][1].imshow(img_nuc_bin, cmap='gray')\n",
    "ax[0][1].set_title('Binary Nuclear Image')\n",
    "ax[0][2].imshow(label2rgb(labels_ws, bg_label=0))\n",
    "ax[0][2].set_title('Watershed Segmentation')\n",
    "\n",
    "ax[1][0].imshow(image[:250, :250, :])\n",
    "ax[1][0].set_title('Original Image')\n",
    "ax[1][1].imshow(img_nuc_bin[:250, :250], cmap='gray')\n",
    "ax[1][1].set_title('Binary Nuclear Image')\n",
    "ax[1][2].imshow(label2rgb(labels_ws[:250, :250], bg_label=0))\n",
    "ax[1][2].set_title('Watershed Segmentation')\n",
    "\n",
    "for a in ax:\n",
    "  for b in a:\n",
    "    b.axis('off')\n",
    "    \n",
    "fig.tight_layout()"
   ]
  },
  {
   "cell_type": "markdown",
   "metadata": {
    "colab_type": "text",
    "id": "hA_ZFFz6YVsu"
   },
   "source": [
    "## EXPERIMENTAL: DO NOT RUN\n",
    "\n",
    "Gabor Texture Analysis"
   ]
  },
  {
   "cell_type": "code",
   "execution_count": null,
   "metadata": {
    "colab": {},
    "colab_type": "code",
    "id": "CpGjCt8xBsSw"
   },
   "outputs": [],
   "source": [
    "from scipy import ndimage as ndi\n",
    "\n",
    "def power(image, kernel):\n",
    "    # Normalize images for better comparison.\n",
    "    image = (image - image.mean()) / image.std()\n",
    "    return np.sqrt(ndi.convolve(image, np.real(kernel), mode='wrap')**2 +\n",
    "                   ndi.convolve(image, np.imag(kernel), mode='wrap')**2)"
   ]
  },
  {
   "cell_type": "code",
   "execution_count": null,
   "metadata": {
    "colab": {},
    "colab_type": "code",
    "id": "nIwV5NJAYXma"
   },
   "outputs": [],
   "source": [
    "from skimage.filters import gabor_kernel\n",
    "\n",
    "# Plot a selection of the filter bank kernels and their responses.\n",
    "results = []\n",
    "kernel_params = []\n",
    "for theta in (0, 1):\n",
    "    theta = theta / 4. * np.pi\n",
    "    for frequency in (0.1, 0.4):\n",
    "        kernel = gabor_kernel(frequency, theta=theta)\n",
    "        params = 'theta=%d,\\nfrequency=%.2f' % (theta * 180 / np.pi, frequency)\n",
    "        kernel_params.append(params)\n",
    "\n",
    "        #print(np.shape(kernel))\n",
    "\n",
    "        # Save kernel and the power image for each image\n",
    "        results.append((kernel, [power(img, kernel) for img in images]))"
   ]
  },
  {
   "cell_type": "code",
   "execution_count": null,
   "metadata": {
    "colab": {},
    "colab_type": "code",
    "id": "c0G9nxG4ElgZ"
   },
   "outputs": [],
   "source": [
    "theta = 0\n",
    "frequency=0.1\n",
    "kernel = gabor_kernel(frequency=frequency, theta=theta)\n",
    "result = np.sqrt(ndi.convolve(images[0], np.real(kernel), mode='wrap')**2 + ndi.convolve(images[0], np.imag(kernel), mode='wrap')**2, dtype=np.float)"
   ]
  },
  {
   "cell_type": "code",
   "execution_count": null,
   "metadata": {
    "colab": {},
    "colab_type": "code",
    "id": "7Gyn7mLZDLhk"
   },
   "outputs": [],
   "source": [
    "f, axes = plt.subplots(1, 2, figsize=(10,6))\n",
    "\n",
    "axes[0].imshow(result, cmap=plt.cm.gray)\n",
    "axes[0].set_title('Result of Gabor Filtering')\n",
    "axes[1].imshow(np.real(kernel), cmap=plt.cm.gray)\n",
    "axes[1].set_title('Gabor Kernel')\n",
    "\n",
    "for ax in axes:\n",
    "  ax.axis('off')\n",
    "\n",
    "plt.tight_layout()\n",
    "plt.show()"
   ]
  },
  {
   "cell_type": "code",
   "execution_count": null,
   "metadata": {
    "colab": {},
    "colab_type": "code",
    "id": "El8y6fzRAzgz"
   },
   "outputs": [],
   "source": [
    "fig, axes = plt.subplots(nrows=5, ncols=4, figsize=(5, 6))\n",
    "plt.gray()\n",
    "\n",
    "for label, (kernel, powers), ax_row in zip(kernel_params, results, axes[1:]):\n",
    "    # Plot Gabor kernel\n",
    "    ax = ax_row[0]\n",
    "    ax.imshow(np.real(kernel))\n",
    "    ax.set_ylabel(label, fontsize=7)\n",
    "    ax.set_xticks([])\n",
    "    ax.set_yticks([])\n",
    "\n",
    "    # Plot Gabor responses with the contrast normalized for each filter\n",
    "    vmin = np.min(powers)\n",
    "    vmax = np.max(powers)\n",
    "    for patch, ax in zip(powers, ax_row[1:]):\n",
    "        ax.imshow(patch, vmin=vmin, vmax=vmax)\n",
    "        ax.axis('off')\n",
    "\n",
    "plt.show()"
   ]
  }
 ],
 "metadata": {
  "colab": {
   "collapsed_sections": [
    "bdd2CaE_YHuE",
    "4MoWkU8jYJYO",
    "OgnlXQltYKnB",
    "V-UKdIrOYMWK",
    "KXi0A7IAYN7b",
    "8ZijV1jNGEpQ",
    "VkLBwwq2Hh1j",
    "4rQIxru-4wT7",
    "IJMdKev55fbA",
    "eT8XqTeT9WLg",
    "6QXwQJu1-NWI",
    "hA_ZFFz6YVsu"
   ],
   "name": "03-image-analysis-and-filtering.ipynb",
   "provenance": []
  },
  "kernelspec": {
   "display_name": "Python 3",
   "language": "python",
   "name": "python3"
  },
  "language_info": {
   "codemirror_mode": {
    "name": "ipython",
    "version": 3
   },
   "file_extension": ".py",
   "mimetype": "text/x-python",
   "name": "python",
   "nbconvert_exporter": "python",
   "pygments_lexer": "ipython3",
   "version": "3.7.3"
  }
 },
 "nbformat": 4,
 "nbformat_minor": 4
}
