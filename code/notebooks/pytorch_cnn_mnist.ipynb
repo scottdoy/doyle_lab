{
 "cells": [
  {
   "cell_type": "code",
   "execution_count": null,
   "metadata": {},
   "outputs": [],
   "source": [
    "import torch\n",
    "import torch.nn as nn\n",
    "import torch.nn.functional as F\n",
    "import torch.optim as optim\n",
    "from torchvision import datasets, transforms, models, utils\n",
    "\n",
    "import imageio\n",
    "from PIL import Image\n",
    "import matplotlib.pyplot as plt\n",
    "import numpy as np"
   ]
  },
  {
   "cell_type": "code",
   "execution_count": null,
   "metadata": {},
   "outputs": [],
   "source": [
    "def imshow(images):\n",
    "    img_grid = utils.make_grid(images, nrow=5)\n",
    "    #img = img_grid / 2 + 0.5     # unnormalize\n",
    "    npimg = img_grid.numpy()\n",
    "    \n",
    "    fig, ax = plt.subplots(figsize=(20,10))\n",
    "    ax.imshow(np.transpose(npimg, (1, 2, 0)))\n",
    "    ax.axis('off')\n",
    "    plt.show()"
   ]
  },
  {
   "cell_type": "code",
   "execution_count": null,
   "metadata": {},
   "outputs": [],
   "source": [
    "mnist_dataset = datasets.MNIST(root='../data', download=True)\n",
    "idx = mnist_dataset.targets==1\n",
    "mnist_ones = mnist_dataset.data[idx]\n",
    "idx = mnist_dataset.targets==0\n",
    "mnist_zeros = mnist_dataset.data[idx]\n",
    "\n",
    "mnist_ones = mnist_ones[0:500,:,:]\n",
    "mnist_zeros = mnist_zeros[0:500,:,:]"
   ]
  },
  {
   "cell_type": "code",
   "execution_count": null,
   "metadata": {},
   "outputs": [],
   "source": [
    "fig, ax = plt.subplots(1,2,figsize=(5,5))\n",
    "ax[0].imshow(mnist_zeros[0,:,:], cmap=plt.cm.gray)\n",
    "ax[1].imshow(mnist_ones[0,:,:], cmap=plt.cm.gray)\n",
    "\n",
    "for a in ax:\n",
    "    a.axis('off')\n",
    "plt.show()"
   ]
  },
  {
   "cell_type": "code",
   "execution_count": null,
   "metadata": {},
   "outputs": [],
   "source": [
    "zeros_num = mnist_zeros.shape[0]\n",
    "mnist_zeros_vec = np.array(mnist_zeros.reshape(zeros_num, 28*28))"
   ]
  },
  {
   "cell_type": "code",
   "execution_count": null,
   "metadata": {},
   "outputs": [],
   "source": [
    "fig, ax = plt.subplots(figsize=(15,20))\n",
    "ax.imshow(np.transpose(mnist_zeros_vec), cmap=plt.cm.gray)\n",
    "ax.axis('off')\n",
    "plt.show()"
   ]
  },
  {
   "cell_type": "code",
   "execution_count": null,
   "metadata": {},
   "outputs": [],
   "source": [
    "imageio.imwrite('zeros_vec.png', np.transpose(mnist_zeros_vec))"
   ]
  },
  {
   "cell_type": "code",
   "execution_count": null,
   "metadata": {},
   "outputs": [],
   "source": [
    "fig, ax = plt.subplots(figsize=(5,5))\n",
    "ax.imshow(mnist_zeros[0,:,:], cmap=plt.cm.gray)\n",
    "ax.axis('off')\n",
    "plt.show()"
   ]
  },
  {
   "cell_type": "code",
   "execution_count": null,
   "metadata": {},
   "outputs": [],
   "source": [
    "imageio.imwrite('zeros.png', mnist_zeros[0,:,:])"
   ]
  },
  {
   "cell_type": "code",
   "execution_count": null,
   "metadata": {},
   "outputs": [],
   "source": [
    "fig, ax = plt.subplots(figsize=(5,5))\n",
    "ax.imshow(np.reshape(mnist_zeros[0,:,:], (1,28*28)), cmap=plt.cm.gray)\n",
    "ax.axis('off')\n",
    "plt.show()\n",
    "\n",
    "imageio.imwrite('zero_vec.png', mnist_zeros[0,:,:])"
   ]
  },
  {
   "cell_type": "code",
   "execution_count": null,
   "metadata": {},
   "outputs": [],
   "source": [
    "ones_num = mnist_ones.shape[0]\n",
    "mnist_ones_vec = np.array(mnist_ones.reshape(ones_num, 28*28))"
   ]
  },
  {
   "cell_type": "code",
   "execution_count": null,
   "metadata": {},
   "outputs": [],
   "source": [
    "fig, ax = plt.subplots(figsize=(15,20))\n",
    "ax.imshow(np.transpose(mnist_ones_vec), cmap=plt.cm.gray)\n",
    "ax.axis('off')\n",
    "plt.show()"
   ]
  },
  {
   "cell_type": "code",
   "execution_count": null,
   "metadata": {},
   "outputs": [],
   "source": [
    "imageio.imwrite('ones_vec.png', np.transpose(mnist_ones_vec))"
   ]
  },
  {
   "cell_type": "code",
   "execution_count": null,
   "metadata": {},
   "outputs": [],
   "source": [
    "fig, ax = plt.subplots(figsize=(5,5))\n",
    "\n",
    "ax.imshow(mnist_ones[0,:,:], cmap=plt.cm.gray)\n",
    "ax.axis('off')\n",
    "\n",
    "plt.show()"
   ]
  },
  {
   "cell_type": "code",
   "execution_count": null,
   "metadata": {},
   "outputs": [],
   "source": [
    "imageio.imwrite('ones.png', mnist_ones[0,:,:])"
   ]
  },
  {
   "cell_type": "code",
   "execution_count": null,
   "metadata": {},
   "outputs": [],
   "source": [
    "fig, ax = plt.subplots(1,5, figsize=(1,5))\n",
    "\n",
    "for row_idx, row_ax in enumerate(ax):\n",
    "    tmp = mnist_train_data[row_idx,:,:].reshape(28*28,1)\n",
    "    row_ax.imshow(Image.fromarray(np.array(tmp)).resize((50,784)), cmap=plt.cm.gray)\n",
    "    row_ax.axis('off')\n",
    "\n",
    "plt.show()"
   ]
  },
  {
   "cell_type": "code",
   "execution_count": null,
   "metadata": {},
   "outputs": [],
   "source": [
    "idx = mnist_dataset.train_labels==0\n",
    "mnist_train_data = mnist_dataset.data[idx]\n",
    "mnist_train_labels = mnist_dataset.targets[idx]"
   ]
  },
  {
   "cell_type": "code",
   "execution_count": null,
   "metadata": {},
   "outputs": [],
   "source": [
    "fig, ax = plt.subplots(5,5, figsize=(5,5))\n",
    "\n",
    "for row_idx, row_ax in enumerate(ax):\n",
    "    for col_idx, col_ax in enumerate(row_ax):\n",
    "        col_ax.imshow(mnist_train_data[(row_idx*len(ax))+col_idx,:,:], cmap=plt.cm.gray)\n",
    "        col_ax.axis('off')\n",
    "\n",
    "plt.show()"
   ]
  },
  {
   "cell_type": "code",
   "execution_count": null,
   "metadata": {},
   "outputs": [],
   "source": [
    "fig, ax = plt.subplots(1,5, figsize=(1,5))\n",
    "\n",
    "for row_idx, row_ax in enumerate(ax):\n",
    "    tmp = mnist_train_data[row_idx,:,:].reshape(28*28,1)\n",
    "    row_ax.imshow(Image.fromarray(np.array(tmp)).resize((50,784)), cmap=plt.cm.gray)\n",
    "    row_ax.axis('off')\n",
    "\n",
    "plt.show()"
   ]
  },
  {
   "cell_type": "code",
   "execution_count": null,
   "metadata": {},
   "outputs": [],
   "source": [
    "mnist_transform = transforms.Compose(\n",
    "    [transforms.ToTensor()])\n",
    "mnist_dataset = datasets.MNIST(root='../data', download=True, transform=mnist_transform)\n",
    "mnist_dataloader = torch.utils.data.DataLoader(mnist_dataset, batch_size=25,\n",
    "                                                  shuffle=True, num_workers=2)"
   ]
  },
  {
   "cell_type": "code",
   "execution_count": null,
   "metadata": {},
   "outputs": [],
   "source": [
    "# Get some random training images (one iteration of the dataloader)\n",
    "dataiter = iter(mnist_dataloader)\n",
    "images, labels = dataiter.next()\n",
    "\n",
    "imshow(images)"
   ]
  },
  {
   "cell_type": "code",
   "execution_count": null,
   "metadata": {},
   "outputs": [],
   "source": [
    "img_grid = utils.make_grid(images, nrow=5)\n",
    "npimg = img_grid.numpy()\n",
    "\n",
    "imageio.imwrite('random.png', np.transpose(npimg, (1, 2, 0)))"
   ]
  },
  {
   "cell_type": "code",
   "execution_count": null,
   "metadata": {},
   "outputs": [],
   "source": []
  }
 ],
 "metadata": {
  "file_extension": ".py",
  "kernelspec": {
   "display_name": "Python 3",
   "language": "python",
   "name": "python3"
  },
  "language_info": {
   "codemirror_mode": {
    "name": "ipython",
    "version": 3
   },
   "file_extension": ".py",
   "mimetype": "text/x-python",
   "name": "python",
   "nbconvert_exporter": "python",
   "pygments_lexer": "ipython3",
   "version": "3.7.3"
  },
  "mimetype": "text/x-python",
  "name": "python",
  "npconvert_exporter": "python",
  "pygments_lexer": "ipython3",
  "version": 3
 },
 "nbformat": 4,
 "nbformat_minor": 2
}
