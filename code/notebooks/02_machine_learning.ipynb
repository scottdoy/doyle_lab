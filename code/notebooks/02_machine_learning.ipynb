{
 "cells": [
  {
   "cell_type": "markdown",
   "metadata": {
    "colab_type": "text",
    "id": "h67cJPWWXXW2"
   },
   "source": [
    "# Introduction"
   ]
  },
  {
   "cell_type": "markdown",
   "metadata": {
    "colab_type": "text",
    "id": "DvjWJrQR5TB6"
   },
   "source": [
    "In this notebook, I'll be illustrating some common data science / machine learning algorithms, and showing how to use them in Python. Most of these algorithms are implemented in the `scikit-learn` package, so that's what we'll be using here.\n",
    "\n",
    "If you haven't already, please refer to [01-data-exploration.ipynb](), as that notebook describes most of the data loading and pre-processing steps that we'll perform at the beginning of this notebook."
   ]
  },
  {
   "cell_type": "markdown",
   "metadata": {
    "colab_type": "text",
    "id": "tauacz9lXZ9X"
   },
   "source": [
    "# Imports, Data Access / Loading, and Pre-processing"
   ]
  },
  {
   "cell_type": "markdown",
   "metadata": {
    "colab_type": "text",
    "id": "ApIHBrc3BRK5"
   },
   "source": [
    "This is a big chunk of code that basically does what all the code in the previous notebook does:\n",
    "\n",
    "- Loads the CSV data\n",
    "- Splits the data into training and testing sets via stratified sampling\n",
    "- Cleans the data:\n",
    "  - Transforms the target variable\n",
    "  - Drops NA values\n",
    "  - Scales the attributes\n",
    "- Creates a pipeline to handle the data preprocessing\n",
    "\n",
    "For the purposes of this section, we will not do any feature combination, correlation analysis, or dimensionality reduction just yet."
   ]
  },
  {
   "cell_type": "markdown",
   "metadata": {
    "colab_type": "text",
    "id": "SjS8tLJKqVeN"
   },
   "source": [
    "## Imports"
   ]
  },
  {
   "cell_type": "code",
   "execution_count": null,
   "metadata": {
    "colab": {},
    "colab_type": "code",
    "id": "ymicpVB5B7O5"
   },
   "outputs": [],
   "source": [
    "import os\n",
    "import pandas as pd\n",
    "import numpy as np\n",
    "\n",
    "# We use two different plotting libraries, depending on which kind of plot we want\n",
    "import matplotlib.pyplot as plt\n",
    "import seaborn as sns\n",
    "\n",
    "# Set an option for Pandas to display smaller floating-point numbers\n",
    "pd.options.display.float_format = '{:,.2f}'.format\n",
    "\n",
    "# Turn off warnings\n",
    "import warnings\n",
    "warnings.filterwarnings(\"ignore\")"
   ]
  },
  {
   "cell_type": "markdown",
   "metadata": {
    "colab_type": "text",
    "id": "xUebePkRqW0I"
   },
   "source": [
    "## Data Loading"
   ]
  },
  {
   "cell_type": "markdown",
   "metadata": {},
   "source": [
    "### Google Drive (for Colab)"
   ]
  },
  {
   "cell_type": "code",
   "execution_count": null,
   "metadata": {
    "colab": {
     "base_uri": "https://localhost:8080/",
     "height": 122
    },
    "colab_type": "code",
    "id": "zZEifrykqM-Q",
    "outputId": "066769c9-6c0b-4a68-f318-feec38f16379"
   },
   "outputs": [],
   "source": [
    "# Need to get Google Drive access\n",
    "from google.colab import drive\n",
    "drive.mount('/content/gdrive')"
   ]
  },
  {
   "cell_type": "code",
   "execution_count": null,
   "metadata": {
    "colab": {},
    "colab_type": "code",
    "id": "iFq062M3Glre"
   },
   "outputs": [],
   "source": [
    "# Load the dataset into a Pandas dataframe\n",
    "data_dir = os.path.join('/content/gdrive/My Drive/2020-tata-memorial-workshop/wisconsin_breast_cancer_data.csv')\n",
    "df = pd.read_csv(data_dir)"
   ]
  },
  {
   "cell_type": "markdown",
   "metadata": {},
   "source": [
    "### Local Files"
   ]
  },
  {
   "cell_type": "code",
   "execution_count": null,
   "metadata": {},
   "outputs": [],
   "source": [
    "data_path = os.path.join('data', 'bca_wisconsin', 'bca_wisconsin.csv')\n",
    "df = pd.read_csv(data_path)"
   ]
  },
  {
   "cell_type": "code",
   "execution_count": null,
   "metadata": {
    "colab": {
     "base_uri": "https://localhost:8080/",
     "height": 241
    },
    "colab_type": "code",
    "id": "8bxyRr61CzuX",
    "outputId": "a1bca900-dd8d-4827-9134-3c757fa8ba7a"
   },
   "outputs": [],
   "source": [
    "df.head()"
   ]
  },
  {
   "cell_type": "markdown",
   "metadata": {
    "colab_type": "text",
    "id": "6VgaN-eyqYSa"
   },
   "source": [
    "## Label Encoding"
   ]
  },
  {
   "cell_type": "code",
   "execution_count": null,
   "metadata": {
    "colab": {},
    "colab_type": "code",
    "id": "8snsECMQqROj"
   },
   "outputs": [],
   "source": [
    "from sklearn.preprocessing import LabelEncoder\n",
    "label_encoder = LabelEncoder()\n",
    "\n",
    "diagnosis_cat = df['diagnosis']\n",
    "\n",
    "# Fit the encoder to the categories, and immediately \n",
    "diagnosis_lab = label_encoder.fit_transform(diagnosis_cat)\n",
    "\n",
    "# Add the diagnosis label back to the dataframe\n",
    "df['diagnosis_label'] = diagnosis_lab"
   ]
  },
  {
   "cell_type": "markdown",
   "metadata": {
    "colab_type": "text",
    "id": "OWuWDaimqaYU"
   },
   "source": [
    "## Train/Test Splitting"
   ]
  },
  {
   "cell_type": "code",
   "execution_count": null,
   "metadata": {
    "colab": {},
    "colab_type": "code",
    "id": "OcadRPrJqTGM"
   },
   "outputs": [],
   "source": [
    "# Stratified Split\n",
    "from sklearn.model_selection import StratifiedShuffleSplit\n",
    "\n",
    "# Create the splitting object\n",
    "split = StratifiedShuffleSplit(n_splits=1, test_size=0.3, random_state=42)\n",
    "\n",
    "# Apply the split to the data frame using the \"diagnosis\" column as our label\n",
    "for train_index, test_index in split.split(df, df[\"diagnosis\"]):\n",
    "    train_set = df.loc[train_index]\n",
    "    test_set = df.loc[test_index]"
   ]
  },
  {
   "cell_type": "code",
   "execution_count": null,
   "metadata": {
    "colab": {},
    "colab_type": "code",
    "id": "tOAvTps1vXvc"
   },
   "outputs": [],
   "source": [
    "training_values = train_set.drop(['id','diagnosis', 'diagnosis_label'], axis=1)\n",
    "training_labels = train_set[['diagnosis_label']].copy()\n",
    "\n",
    "testing_values = test_set.drop(['id','diagnosis', 'diagnosis_label'], axis=1)\n",
    "testing_labels = test_set[['diagnosis_label']].copy()"
   ]
  },
  {
   "cell_type": "markdown",
   "metadata": {
    "colab_type": "text",
    "id": "aoRMlf4EqeDc"
   },
   "source": [
    "## Data Scaling and PCA"
   ]
  },
  {
   "cell_type": "code",
   "execution_count": null,
   "metadata": {
    "colab": {},
    "colab_type": "code",
    "id": "HlUNVmuUqTt9"
   },
   "outputs": [],
   "source": [
    "from sklearn.preprocessing import StandardScaler\n",
    "from sklearn.pipeline import Pipeline\n",
    "from sklearn.pipeline import make_pipeline\n",
    "from sklearn.decomposition import PCA\n",
    "\n",
    "# Make the pipeline (automatically add the step names)\n",
    "input_pipeline = make_pipeline(StandardScaler(), PCA(n_components=2))\n",
    "\n",
    "training_values_transformed = input_pipeline.fit_transform(training_values)\n",
    "testing_values_transformed = input_pipeline.transform(testing_values)\n",
    "\n",
    "# Separate out our testing data into classes for easier plotting\n",
    "malignant = testing_values_transformed[testing_labels['diagnosis_label'] == 1,:]\n",
    "benign = testing_values_transformed[testing_labels['diagnosis_label'] == 0,:]"
   ]
  },
  {
   "cell_type": "markdown",
   "metadata": {
    "colab_type": "text",
    "id": "RppCffjdu8Br"
   },
   "source": [
    "# Clustering"
   ]
  },
  {
   "cell_type": "markdown",
   "metadata": {
    "colab_type": "text",
    "id": "kQhoF5G3vE-6"
   },
   "source": [
    "Clustering is for unlabeled data, where you can decide on a label just based on the structure of the data."
   ]
  },
  {
   "cell_type": "markdown",
   "metadata": {
    "colab_type": "text",
    "id": "hcjJQZ5JvG8R"
   },
   "source": [
    "## KMeans"
   ]
  },
  {
   "cell_type": "code",
   "execution_count": null,
   "metadata": {
    "colab": {},
    "colab_type": "code",
    "id": "rAXYHDF2wmoz"
   },
   "outputs": [],
   "source": [
    "from sklearn.cluster import KMeans\n",
    "\n",
    "# Clustering pipeline - Start to finish\n",
    "kmeans_pipeline = make_pipeline(KMeans(n_clusters=2))\n",
    "\n",
    "# Cluster via K-means\n",
    "kmeans_model = kmeans_pipeline.fit(training_values_transformed)\n",
    "kmeans_testing_prediction = kmeans_model.predict(testing_values_transformed)"
   ]
  },
  {
   "cell_type": "code",
   "execution_count": null,
   "metadata": {
    "colab": {},
    "colab_type": "code",
    "id": "tF9JvC51YD4h"
   },
   "outputs": [],
   "source": [
    "# Separate the data into classes for easier plotting\n",
    "cluster_one = testing_values_transformed[kmeans_testing_prediction == 0,:]\n",
    "cluster_two = testing_values_transformed[kmeans_testing_prediction == 1,:]\n",
    "#cluster_three = testing_values_transformed[kmeans_testing_prediction == 2,:]\n"
   ]
  },
  {
   "cell_type": "code",
   "execution_count": null,
   "metadata": {
    "colab": {
     "base_uri": "https://localhost:8080/",
     "height": 441
    },
    "colab_type": "code",
    "id": "Q1saHN_ewFrK",
    "outputId": "7d30fa1b-a41a-4db5-e431-e44922e7c11a"
   },
   "outputs": [],
   "source": [
    "f, axes = plt.subplots(1, 2, sharey=True, figsize=(10,6))\n",
    "\n",
    "axes[0].scatter(cluster_one[:, 0], cluster_one[:, 1], alpha=.8, label=\"Cluster 1\")\n",
    "axes[0].scatter(cluster_two[:, 0], cluster_two[:, 1], alpha=.8, label=\"Cluster 2\")\n",
    "#axes[0].scatter(cluster_three[:, 0], cluster_three[:, 1], alpha=.8, label=\"Cluster 3\")\n",
    "axes[0].set_title(\"Cluster Prediction\")\n",
    "\n",
    "axes[1].scatter(malignant[:,0], malignant[:,1], alpha=.8, label=\"Malignant\")\n",
    "axes[1].scatter(benign[:,0], benign[:,1], alpha=.8, label=\"Benign\")\n",
    "axes[1].set_title(\"True Class\")\n",
    "\n",
    "# Annotate Plot\n",
    "for ax in axes:\n",
    "  ax.set(xlabel=r'$x_{1}$',\n",
    "         ylabel=r'$x_{2}$')\n",
    "  \n",
    "  ax.legend(frameon=True)\n",
    "  ax.grid(linestyle=':')\n",
    "\n",
    "plt.tight_layout()\n",
    "plt.show()"
   ]
  },
  {
   "cell_type": "markdown",
   "metadata": {
    "colab_type": "text",
    "id": "bJjgRt2ZvIop"
   },
   "source": [
    "## Mean Shift"
   ]
  },
  {
   "cell_type": "code",
   "execution_count": null,
   "metadata": {
    "colab": {
     "base_uri": "https://localhost:8080/",
     "height": 34
    },
    "colab_type": "code",
    "id": "IguBiUvSwbUp",
    "outputId": "69af7005-51e1-43c9-c063-1ff1bf73780f"
   },
   "outputs": [],
   "source": [
    "from sklearn.cluster import MeanShift\n",
    "meanshift_pipeline = make_pipeline(MeanShift())\n",
    "\n",
    "# Cluster via Mean Shift\n",
    "meanshift_model = meanshift_pipeline.fit(training_values_transformed)\n",
    "meanshift_testing_prediction = meanshift_model.predict(testing_values_transformed)\n",
    "\n",
    "# Get the unique set of clusters for this algorithm\n",
    "clusters = np.unique(meanshift_testing_prediction)\n",
    "nclusters = len(clusters)\n",
    "print(\"Mean Shift found {} clusters\".format(nclusters))"
   ]
  },
  {
   "cell_type": "code",
   "execution_count": null,
   "metadata": {
    "colab": {
     "base_uri": "https://localhost:8080/",
     "height": 441
    },
    "colab_type": "code",
    "id": "wnm4HVnOaD13",
    "outputId": "b561073e-dde3-4523-d8c5-4e2a277edb2c"
   },
   "outputs": [],
   "source": [
    "f, axes = plt.subplots(1, 2, sharey=True, figsize=(10,6))\n",
    "\n",
    "# Plot out all the different clusters\n",
    "for cluster in clusters:\n",
    "  this_cluster = testing_values_transformed[meanshift_testing_prediction == cluster, :]\n",
    "  axes[0].scatter(this_cluster[:, 0], this_cluster[:, 1], alpha=.8, label=\"Cluster {}\".format(cluster))\n",
    "axes[0].set_title(\"Cluster Prediction\")\n",
    "\n",
    "axes[1].scatter(malignant[:,0], malignant[:,1], alpha=.8, label=\"Malignant\")\n",
    "axes[1].scatter(benign[:,0], benign[:,1], alpha=.8, label=\"Benign\")\n",
    "axes[1].set_title(\"True Class\")\n",
    "\n",
    "# Annotate Plot\n",
    "for ax in axes:\n",
    "  ax.set(xlabel=r'$x_{1}$',\n",
    "         ylabel=r'$x_{2}$')\n",
    "  \n",
    "  ax.legend(frameon=True)\n",
    "  ax.grid(linestyle=':')\n",
    "\n",
    "plt.tight_layout()\n",
    "plt.show()"
   ]
  },
  {
   "cell_type": "markdown",
   "metadata": {
    "colab_type": "text",
    "id": "OB2svkJovKsz"
   },
   "source": [
    "## DBSCAN\n",
    "\n",
    "Good for data which contains clusters of similar density. This automatically finds \"balls\" of samples."
   ]
  },
  {
   "cell_type": "code",
   "execution_count": null,
   "metadata": {
    "colab": {
     "base_uri": "https://localhost:8080/",
     "height": 34
    },
    "colab_type": "code",
    "id": "4obgsisHwf96",
    "outputId": "f19c716c-33be-4803-9770-7ac273854158"
   },
   "outputs": [],
   "source": [
    "from sklearn.cluster import DBSCAN\n",
    "\n",
    "# Cluster via DBSCAN\n",
    "dbscan_model = DBSCAN(eps=0.85).fit(testing_values_transformed)\n",
    "\n",
    "dbscan_testing_prediction = dbscan_model.labels_\n",
    "\n",
    "# Get the unique set of clusters for this algorithm\n",
    "clusters = np.unique(dbscan_testing_prediction)\n",
    "nclusters = len(clusters)\n",
    "print(\"DBSCAN found {} clusters\".format(nclusters))"
   ]
  },
  {
   "cell_type": "code",
   "execution_count": null,
   "metadata": {
    "colab": {
     "base_uri": "https://localhost:8080/",
     "height": 441
    },
    "colab_type": "code",
    "id": "e8m5bj5GdgGh",
    "outputId": "1f60a60e-395f-431f-f0a2-dc5b361073f1"
   },
   "outputs": [],
   "source": [
    "f, axes = plt.subplots(1, 2, sharey=True, figsize=(10,6))\n",
    "\n",
    "# Plot out all the different clusters\n",
    "for cluster in clusters:\n",
    "  this_cluster = testing_values_transformed[dbscan_testing_prediction == cluster, :]\n",
    "  axes[0].scatter(this_cluster[:, 0], this_cluster[:, 1], alpha=.8, label=\"Cluster {}\".format(cluster))\n",
    "axes[0].set_title(\"Cluster Prediction\")\n",
    "\n",
    "axes[1].scatter(malignant[:,0], malignant[:,1], alpha=.8, label=\"Malignant\")\n",
    "axes[1].scatter(benign[:,0], benign[:,1], alpha=.8, label=\"Benign\")\n",
    "axes[1].set_title(\"True Class\")\n",
    "\n",
    "# Annotate Plot\n",
    "for ax in axes:\n",
    "  ax.set(xlabel=r'$x_{1}$',\n",
    "         ylabel=r'$x_{2}$')\n",
    "  \n",
    "  ax.legend(frameon=True)\n",
    "  ax.grid(linestyle=':')\n",
    "\n",
    "plt.tight_layout()\n",
    "plt.show()"
   ]
  },
  {
   "cell_type": "markdown",
   "metadata": {
    "colab_type": "text",
    "id": "OGTUBa2gv-Fw"
   },
   "source": [
    "## Evaluation\n",
    "\n",
    "To evaluate, we have several metrics to choose from depending on whether or not we have ground truth labels."
   ]
  },
  {
   "cell_type": "code",
   "execution_count": null,
   "metadata": {
    "colab": {},
    "colab_type": "code",
    "id": "KpvqeX1q0v8N"
   },
   "outputs": [],
   "source": [
    "from sklearn import metrics"
   ]
  },
  {
   "cell_type": "markdown",
   "metadata": {
    "colab_type": "text",
    "id": "rTj8ychZwMRt"
   },
   "source": [
    "If we **DO** have the labels:\n",
    "- [Adjusted Rand index](https://scikit-learn.org/stable/modules/clustering.html#adjusted-rand-index)\n",
    "- [Mutual Information](https://scikit-learn.org/stable/modules/clustering.html#mutual-information-based-scores)\n",
    "- [Homogeneity, Completeness, and V-measure](https://scikit-learn.org/stable/modules/clustering.html#homogeneity-completeness-and-v-measure)\n",
    "- [Fowlkes-Mallows Scores](https://scikit-learn.org/stable/modules/clustering.html#fowlkes-mallows-scores)\n",
    "\n",
    "If we **DO NOT** have the labels:\n",
    "- [Silhouette Coefficient](https://scikit-learn.org/stable/modules/clustering.html#silhouette-coefficient)\n",
    "- [Calinski-Harabasz Index](https://scikit-learn.org/stable/modules/clustering.html#calinski-harabasz-index)\n",
    "- [Davies-Bouldin Index](https://scikit-learn.org/stable/modules/clustering.html#davies-bouldin-index)\n",
    "\n",
    "Let's compare  the best- and worst-performing clustering approaches we saw above, and evaluate them in terms of these metrics."
   ]
  },
  {
   "cell_type": "code",
   "execution_count": null,
   "metadata": {
    "colab": {},
    "colab_type": "code",
    "id": "BGIy4IMQhmq_"
   },
   "outputs": [],
   "source": [
    "kmeans_prediction = kmeans_model.predict(testing_values_transformed)\n",
    "meanshift_prediction = meanshift_model.predict(testing_values_transformed)\n",
    "\n",
    "# Need to pull the true labels out of the pandas dataframe\n",
    "testing_labels_array = np.array(testing_labels['diagnosis_label'])"
   ]
  },
  {
   "cell_type": "code",
   "execution_count": null,
   "metadata": {
    "colab": {},
    "colab_type": "code",
    "id": "rpx1jDh7jIqL"
   },
   "outputs": [],
   "source": [
    "def print_row_labels(name, prediction, labels):\n",
    "  print('{}\\t\\t{:.3f}\\t\\t\\t{:.3f}\\t\\t\\t{:.3f}\\t\\t{:.3f}\\t\\t\\t{:.3f}\\t\\t\\t\\t{:.3f}'.format(\n",
    "      name,\n",
    "      metrics.homogeneity_score(labels, prediction),\n",
    "      metrics.completeness_score(labels, prediction),\n",
    "      metrics.v_measure_score(labels, prediction),\n",
    "      metrics.adjusted_rand_score(labels, prediction),\n",
    "      metrics.adjusted_mutual_info_score(labels,  prediction),\n",
    "      metrics.fowlkes_mallows_score(labels, prediction)))\n",
    "\n",
    "def print_row_nolabels(name, prediction, data):\n",
    "  print('{}\\t\\t{:.3f}\\t\\t\\t{:.3f}\\t\\t\\t{:.3f}'.format(\n",
    "      name,\n",
    "      metrics.silhouette_score(data, prediction),\n",
    "      metrics.calinski_harabasz_score(data, prediction),\n",
    "      metrics.davies_bouldin_score(data, prediction)))"
   ]
  },
  {
   "cell_type": "code",
   "execution_count": null,
   "metadata": {
    "colab": {
     "base_uri": "https://localhost:8080/",
     "height": 241
    },
    "colab_type": "code",
    "id": "BKPn6pVdi8ps",
    "outputId": "5fa05d7e-7c18-486a-a374-e38078192d1a"
   },
   "outputs": [],
   "source": [
    "print('Using Labels')\n",
    "print('Algorithm\\tHomogeneity Score\\tCompleteness Score\\tV-Measure\\tAdjusted Rand Index\\tAdjusted Mutual Information\\tFowlkes-Mallows Score')\n",
    "print(160 * '-')\n",
    "print_row_labels('KMeans', kmeans_prediction, testing_labels_array)\n",
    "print_row_labels('MShift', meanshift_prediction, testing_labels_array)\n",
    "print('')\n",
    "\n",
    "print('Without Labels')\n",
    "print('Algorithm\\tSilhouette Coefficient\\tCalinski-Harabasz Index\\tDavies-Bouldin Indexavies')\n",
    "print(100 * '-')\n",
    "print_row_nolabels('KMeans', kmeans_prediction, testing_values_transformed)\n",
    "print_row_nolabels('MShift', meanshift_prediction, testing_values_transformed)\n",
    "print('')"
   ]
  },
  {
   "cell_type": "markdown",
   "metadata": {
    "colab_type": "text",
    "id": "LYvrOozCvo7t"
   },
   "source": [
    "# Classification\n",
    "\n",
    "Once we have labels, we can turn our attention to classification -- this will allow us to assign labels to our testing set."
   ]
  },
  {
   "cell_type": "markdown",
   "metadata": {
    "colab_type": "text",
    "id": "PoDg6uKXvrjQ"
   },
   "source": [
    "We'll go through some common methods, training and calculating the evaluation performance for each of them using basic parameters.\n",
    "For details on modifying / optimizing these, see individual notebooks or the `scikit-learn` User Guide."
   ]
  },
  {
   "cell_type": "markdown",
   "metadata": {
    "colab_type": "text",
    "id": "oIRgg2l7XgXW"
   },
   "source": [
    "## Decision Trees"
   ]
  },
  {
   "cell_type": "code",
   "execution_count": null,
   "metadata": {
    "colab": {},
    "colab_type": "code",
    "id": "2oCjmivEKhgb"
   },
   "outputs": [],
   "source": [
    "if df['radius_mean'] < 100:\n",
    "    if df['texture_mean'] > 50:\n",
    "        # The class is malignant\n",
    "    else:\n",
    "        # The class is benign\n",
    "else:\n",
    "    # The class is benign"
   ]
  },
  {
   "cell_type": "code",
   "execution_count": null,
   "metadata": {
    "colab": {},
    "colab_type": "code",
    "id": "_RNp1geYvXnT"
   },
   "outputs": [],
   "source": [
    "from sklearn.tree import DecisionTreeClassifier\n",
    "\n",
    "tree_clf = DecisionTreeClassifier()\n",
    "tree_clf.fit(training_values_transformed, training_labels)\n",
    "\n",
    "# Make predictions\n",
    "tree_predictions = tree_clf.predict(testing_values_transformed)"
   ]
  },
  {
   "cell_type": "markdown",
   "metadata": {
    "colab_type": "text",
    "id": "DUG7zIr4XiUT"
   },
   "source": [
    "## Support Vector Machines"
   ]
  },
  {
   "cell_type": "code",
   "execution_count": null,
   "metadata": {
    "colab": {},
    "colab_type": "code",
    "id": "9agHdCFP3D2z"
   },
   "outputs": [],
   "source": [
    "from sklearn.svm import SVC\n",
    "\n",
    "svm_model = SVC()\n",
    "svm_model.fit(training_values_transformed, training_labels)\n",
    "\n",
    "# Make predictions\n",
    "svm_predictions = svm_model.predict(testing_values_transformed)"
   ]
  },
  {
   "cell_type": "code",
   "execution_count": null,
   "metadata": {
    "colab": {},
    "colab_type": "code",
    "id": "6aHRQJHSXTz1"
   },
   "outputs": [],
   "source": [
    "svm_site1 = SVC()"
   ]
  },
  {
   "cell_type": "markdown",
   "metadata": {
    "colab_type": "text",
    "id": "kWUlls9bXkl7"
   },
   "source": [
    "## Naive Bayesian Analysis"
   ]
  },
  {
   "cell_type": "code",
   "execution_count": null,
   "metadata": {
    "colab": {},
    "colab_type": "code",
    "id": "C_rd4Vym0LwP"
   },
   "outputs": [],
   "source": [
    "from sklearn.naive_bayes import GaussianNB\n",
    "\n",
    "gnb_model = GaussianNB()\n",
    "gnb_model.fit(training_values_transformed, training_labels)\n",
    "\n",
    "# Make predictions\n",
    "nb_predictions = gnb_model.predict(testing_values_transformed)"
   ]
  },
  {
   "cell_type": "markdown",
   "metadata": {
    "colab_type": "text",
    "id": "9E9zIlBZ4JBy"
   },
   "source": [
    "## Evaluation"
   ]
  },
  {
   "cell_type": "code",
   "execution_count": null,
   "metadata": {
    "colab": {
     "base_uri": "https://localhost:8080/",
     "height": 629
    },
    "colab_type": "code",
    "id": "jKWm16FEyTu2",
    "outputId": "457e347e-7f94-4f5a-9274-55a39bee581d"
   },
   "outputs": [],
   "source": [
    "print(55 * \"=\")\n",
    "print(\"Decision Trees\")\n",
    "print(55 * \"-\")\n",
    "print(metrics.classification_report(testing_labels, tree_predictions, target_names=['Benign', 'Malignant']))\n",
    "\n",
    "print(55 * \"=\")\n",
    "print(\"Support Vector Machines\")\n",
    "print(55 * \"-\")\n",
    "print(metrics.classification_report(testing_labels, svm_predictions, target_names=['Benign', 'Malignant']))\n",
    "\n",
    "print(55 * \"=\")\n",
    "print(\"Naive Bayes\")\n",
    "print(55 * \"-\")\n",
    "print(metrics.classification_report(testing_labels, nb_predictions, target_names=['Benign', 'Malignant']))"
   ]
  },
  {
   "cell_type": "code",
   "execution_count": null,
   "metadata": {
    "colab": {
     "base_uri": "https://localhost:8080/",
     "height": 374
    },
    "colab_type": "code",
    "id": "L8P2GKfw32-c",
    "outputId": "02cb3cd0-6a61-4343-d727-e379465a696b"
   },
   "outputs": [],
   "source": [
    "# Print confusion matrix\n",
    "print(55 * \"=\")\n",
    "print(\"Decision Trees\")\n",
    "print(55 * \"-\")\n",
    "tree_matrix = metrics.confusion_matrix(testing_labels, tree_predictions)\n",
    "\n",
    "print(\"True Positive: {}\".format(tree_matrix[0][0]))\n",
    "print(\"True Negative: {}\".format(tree_matrix[1][1]))\n",
    "print(\"False Positive: {}\".format(tree_matrix[0][1]))\n",
    "print(\"False Negative: {}\".format(tree_matrix[1][0]))\n",
    "\n",
    "print(55 * \"=\")\n",
    "print(\"Support Vector Machine\")\n",
    "print(55 * \"-\")\n",
    "svm_matrix = metrics.confusion_matrix(testing_labels, svm_predictions)\n",
    "\n",
    "print(\"True Positive: {}\".format(svm_matrix[0][0]))\n",
    "print(\"True Negative: {}\".format(svm_matrix[1][1]))\n",
    "print(\"False Positive: {}\".format(svm_matrix[0][1]))\n",
    "print(\"False Negative: {}\".format(svm_matrix[1][0]))\n",
    "\n",
    "print(55 * \"=\")\n",
    "print(\"Naive Bayes\")\n",
    "print(55 * \"-\")\n",
    "nb_matrix = metrics.confusion_matrix(testing_labels, nb_predictions)\n",
    "\n",
    "print(\"True Positive: {}\".format(nb_matrix[0][0]))\n",
    "print(\"True Negative: {}\".format(nb_matrix[1][1]))\n",
    "print(\"False Positive: {}\".format(nb_matrix[0][1]))\n",
    "print(\"False Negative: {}\".format(nb_matrix[1][0]))\n"
   ]
  },
  {
   "cell_type": "code",
   "execution_count": null,
   "metadata": {},
   "outputs": [],
   "source": []
  }
 ],
 "metadata": {
  "colab": {
   "collapsed_sections": [
    "h67cJPWWXXW2",
    "tauacz9lXZ9X",
    "SjS8tLJKqVeN",
    "xUebePkRqW0I",
    "6VgaN-eyqYSa",
    "OWuWDaimqaYU",
    "aoRMlf4EqeDc",
    "RppCffjdu8Br",
    "hcjJQZ5JvG8R",
    "bJjgRt2ZvIop",
    "OB2svkJovKsz",
    "OGTUBa2gv-Fw",
    "LYvrOozCvo7t",
    "oIRgg2l7XgXW",
    "DUG7zIr4XiUT",
    "kWUlls9bXkl7",
    "9E9zIlBZ4JBy"
   ],
   "name": "02-machine-learning.ipynb",
   "provenance": []
  },
  "kernelspec": {
   "display_name": "Python 3",
   "language": "python",
   "name": "python3"
  },
  "language_info": {
   "codemirror_mode": {
    "name": "ipython",
    "version": 3
   },
   "file_extension": ".py",
   "mimetype": "text/x-python",
   "name": "python",
   "nbconvert_exporter": "python",
   "pygments_lexer": "ipython3",
   "version": "3.7.3"
  }
 },
 "nbformat": 4,
 "nbformat_minor": 4
}
